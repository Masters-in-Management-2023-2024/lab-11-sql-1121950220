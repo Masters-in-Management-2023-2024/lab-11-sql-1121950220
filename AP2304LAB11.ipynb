{
  "nbformat": 4,
  "nbformat_minor": 0,
  "metadata": {
    "colab": {
      "provenance": []
    },
    "kernelspec": {
      "name": "python3",
      "display_name": "Python 3"
    },
    "language_info": {
      "name": "python"
    }
  },
  "cells": [
    {
      "cell_type": "code",
      "execution_count": 4,
      "metadata": {
        "colab": {
          "base_uri": "https://localhost:8080/"
        },
        "id": "ifMrujX6YwWF",
        "outputId": "c3415057-72e9-45cc-bdde-c35a47e55c76"
      },
      "outputs": [
        {
          "output_type": "stream",
          "name": "stdout",
          "text": [
            "[('AA',), ('UA',), ('DL',)]\n"
          ]
        }
      ],
      "source": [
        "#1 STEP: Find all unique carriers from the airlines table\n",
        "import sqlite3\n",
        "\n",
        "# Connect to an in-memory SQLite database (replace with your database connection if needed)\n",
        "conn = sqlite3.connect(':memory:')\n",
        "cursor = conn.cursor()\n",
        "\n",
        "# Assuming 'airlines' table exists, you might need to create it or load data first\n",
        "# For demonstration, let's create a dummy 'airlines' table and insert some data\n",
        "cursor.execute(\"\"\"\n",
        "CREATE TABLE airlines (\n",
        "    carrier TEXT\n",
        ");\n",
        "\"\"\")\n",
        "cursor.execute(\"INSERT INTO airlines (carrier) VALUES ('AA');\")\n",
        "cursor.execute(\"INSERT INTO airlines (carrier) VALUES ('UA');\")\n",
        "cursor.execute(\"INSERT INTO airlines (carrier) VALUES ('DL');\")\n",
        "cursor.execute(\"INSERT INTO airlines (carrier) VALUES ('AA');\")\n",
        "\n",
        "\n",
        "result = cursor.execute(\"\"\"\n",
        "SELECT DISTINCT carrier\n",
        "FROM airlines;\n",
        "\"\"\")\n",
        "\n",
        "# Print the result\n",
        "print(result.fetchall())\n",
        "\n",
        "# Close the connection\n",
        "conn.close()"
      ]
    },
    {
      "cell_type": "code",
      "source": [
        "#1.2import sqlite3\n",
        "\n",
        "# Connect to an in-memory SQLite database\n",
        "conn = sqlite3.connect(':memory:')\n",
        "cursor = conn.cursor()\n",
        "\n",
        "# Create a dummy 'flights' table and insert some data for demonstration\n",
        "cursor.execute(\"\"\"\n",
        "CREATE TABLE flights (\n",
        "    dest TEXT\n",
        ");\n",
        "\"\"\")\n",
        "cursor.execute(\"INSERT INTO flights (dest) VALUES ('LAX');\")\n",
        "cursor.execute(\"INSERT INTO flights (dest) VALUES ('JFK');\")\n",
        "cursor.execute(\"INSERT INTO flights (dest) VALUES ('LAX');\")\n",
        "cursor.execute(\"INSERT INTO flights (dest) VALUES ('ORD');\")\n",
        "cursor.execute(\"INSERT INTO flights (dest) VALUES ('JFK');\")\n",
        "cursor.execute(\"INSERT INTO flights (dest) VALUES ('LAX');\")\n",
        "\n",
        "\n",
        "result = cursor.execute(\"\"\"\n",
        "SELECT dest, COUNT(*) AS flight_count\n",
        "FROM flights\n",
        "GROUP BY dest\n",
        "ORDER BY flight_count DESC\n",
        "LIMIT 10;\n",
        "\"\"\")\n",
        "\n",
        "print(result.fetchall())\n",
        "\n",
        "# Close the connection\n",
        "conn.close()"
      ],
      "metadata": {
        "colab": {
          "base_uri": "https://localhost:8080/"
        },
        "id": "QmQ3MvPhZuhu",
        "outputId": "c4ca930d-75e0-4aa0-95b5-93ef9de00f09"
      },
      "execution_count": 6,
      "outputs": [
        {
          "output_type": "stream",
          "name": "stdout",
          "text": [
            "[('LAX', 3), ('JFK', 2), ('ORD', 1)]\n"
          ]
        }
      ]
    },
    {
      "cell_type": "code",
      "source": [
        "#1.3 import sqlite3\n",
        "\n",
        "# Connect to an in-memory SQLite database\n",
        "conn = sqlite3.connect(':memory:')\n",
        "cursor = conn.cursor()\n",
        "\n",
        "# Create a dummy 'flights' table and insert some data for demonstration\n",
        "cursor.execute(\"\"\"\n",
        "CREATE TABLE flights (\n",
        "    dep_delay INTEGER\n",
        ");\n",
        "\"\"\")\n",
        "cursor.execute(\"INSERT INTO flights (dep_delay) VALUES (10);\")\n",
        "cursor.execute(\"INSERT INTO flights (dep_delay) VALUES (150);\")\n",
        "cursor.execute(\"INSERT INTO flights (dep_delay) VALUES (30);\")\n",
        "cursor.execute(\"INSERT INTO flights (dep_delay) VALUES (200);\")\n",
        "cursor.execute(\"INSERT INTO flights (dep_delay) VALUES (90);\")\n",
        "\n",
        "\n",
        "result = cursor.execute(\"\"\"\n",
        "SELECT *\n",
        "FROM flights\n",
        "WHERE dep_delay > 120;\n",
        "\"\"\")\n",
        "\n",
        "print(result.fetchall())\n",
        "\n",
        "# Close the connection\n",
        "conn.close()"
      ],
      "metadata": {
        "colab": {
          "base_uri": "https://localhost:8080/"
        },
        "id": "rx-y6hYuZ2M6",
        "outputId": "82b3ad2b-f671-45ca-de52-dc4e5307183c"
      },
      "execution_count": 8,
      "outputs": [
        {
          "output_type": "stream",
          "name": "stdout",
          "text": [
            "[(150,), (200,)]\n"
          ]
        }
      ]
    },
    {
      "cell_type": "code",
      "source": [
        "#2 import sqlite3\n",
        "\n",
        "# Connect to an in-memory SQLite database\n",
        "conn = sqlite3.connect(':memory:')\n",
        "cursor = conn.cursor()\n",
        "\n",
        "# Create a dummy 'flights' table and insert some data for demonstration\n",
        "cursor.execute(\"\"\"\n",
        "CREATE TABLE flights (\n",
        "    origin TEXT,\n",
        "    dep_delay INTEGER\n",
        ");\n",
        "\"\"\")\n",
        "cursor.execute(\"INSERT INTO flights (origin, dep_delay) VALUES ('JFK', 10);\")\n",
        "cursor.execute(\"INSERT INTO flights (origin, dep_delay) VALUES ('LAX', 150);\")\n",
        "cursor.execute(\"INSERT INTO flights (origin, dep_delay) VALUES ('JFK', 30);\")\n",
        "cursor.execute(\"INSERT INTO flights (origin, dep_delay) VALUES ('LAX', 200);\")\n",
        "cursor.execute(\"INSERT INTO flights (origin, dep_delay) VALUES ('ORD', 90);\")\n",
        "\n",
        "\n",
        "result = cursor.execute(\"\"\"\n",
        "SELECT origin, AVG(dep_delay) AS avg_dep_delay\n",
        "FROM flights\n",
        "GROUP BY origin;\n",
        "\"\"\")\n",
        "\n",
        "print(result.fetchall())\n",
        "\n",
        "# Close the connection\n",
        "conn.close()"
      ],
      "metadata": {
        "colab": {
          "base_uri": "https://localhost:8080/"
        },
        "id": "qN2chcZaaFCN",
        "outputId": "a02214ad-87c0-4742-c8a4-844d9402a322"
      },
      "execution_count": 10,
      "outputs": [
        {
          "output_type": "stream",
          "name": "stdout",
          "text": [
            "[('JFK', 20.0), ('LAX', 175.0), ('ORD', 90.0)]\n"
          ]
        }
      ]
    },
    {
      "cell_type": "code",
      "source": [
        "import sqlite3\n",
        "\n",
        "# Connect to an in-memory SQLite database\n",
        "conn = sqlite3.connect(':memory:')\n",
        "cursor = conn.cursor()\n",
        "\n",
        "# Create a dummy 'flights' table and insert some data for demonstration\n",
        "cursor.execute(\"\"\"\n",
        "CREATE TABLE flights (\n",
        "    month INTEGER\n",
        ");\n",
        "\"\"\")\n",
        "cursor.execute(\"INSERT INTO flights (month) VALUES (1);\")\n",
        "cursor.execute(\"INSERT INTO flights (month) VALUES (2);\")\n",
        "cursor.execute(\"INSERT INTO flights (month) VALUES (1);\")\n",
        "cursor.execute(\"INSERT INTO flights (month) VALUES (3);\")\n",
        "cursor.execute(\"INSERT INTO flights (month) VALUES (2);\")\n",
        "cursor.execute(\"INSERT INTO flights (month) VALUES (1);\")\n",
        "\n",
        "\n",
        "result = cursor.execute(\"\"\"\n",
        "SELECT month, COUNT(*) AS flight_count\n",
        "FROM flights\n",
        "GROUP BY month\n",
        "ORDER BY flight_count DESC\n",
        "LIMIT 1;\n",
        "\"\"\")\n",
        "\n",
        "print(result.fetchall())\n",
        "\n",
        "# Close the connection\n",
        "conn.close()"
      ],
      "metadata": {
        "colab": {
          "base_uri": "https://localhost:8080/"
        },
        "id": "YC_5G4eGaUXj",
        "outputId": "f519e923-692e-41d4-f312-662113a8d648"
      },
      "execution_count": 12,
      "outputs": [
        {
          "output_type": "stream",
          "name": "stdout",
          "text": [
            "[(1, 3)]\n"
          ]
        }
      ]
    },
    {
      "cell_type": "code",
      "source": [
        "import sqlite3\n",
        "\n",
        "# Connect to an in-memory SQLite database\n",
        "conn = sqlite3.connect(':memory:')\n",
        "cursor = conn.cursor()\n",
        "\n",
        "# Create a dummy 'flights' table and insert some data for demonstration\n",
        "cursor.execute(\"\"\"\n",
        "CREATE TABLE flights (\n",
        "    carrier TEXT,\n",
        "    dep_delay INTEGER\n",
        ");\n",
        "\"\"\")\n",
        "cursor.execute(\"INSERT INTO flights (carrier, dep_delay) VALUES ('AA', 10);\")\n",
        "cursor.execute(\"INSERT INTO flights (carrier, dep_delay) VALUES ('UA', 150);\")\n",
        "cursor.execute(\"INSERT INTO flights (carrier, dep_delay) VALUES ('DL', 30);\")\n",
        "cursor.execute(\"INSERT INTO flights (carrier, dep_delay) VALUES ('AA', 5);\")\n",
        "cursor.execute(\"INSERT INTO flights (carrier, dep_delay) VALUES ('UA', 20);\")\n",
        "\n",
        "\n",
        "result = cursor.execute(\"\"\"\n",
        "SELECT carrier,\n",
        "       COUNT(CASE WHEN dep_delay <= 15 THEN 1 END) * 1.0 / COUNT(*) AS on_time_rate\n",
        "FROM flights\n",
        "GROUP BY carrier;\n",
        "\"\"\")\n",
        "\n",
        "print(result.fetchall())\n",
        "\n",
        "# Close the connection\n",
        "conn.close()"
      ],
      "metadata": {
        "colab": {
          "base_uri": "https://localhost:8080/"
        },
        "id": "8XSdhbuHagfG",
        "outputId": "305147ce-c733-4ab1-bd4e-52e2c0bc4fea"
      },
      "execution_count": 14,
      "outputs": [
        {
          "output_type": "stream",
          "name": "stdout",
          "text": [
            "[('AA', 1.0), ('DL', 0.0), ('UA', 0.0)]\n"
          ]
        }
      ]
    },
    {
      "cell_type": "code",
      "source": [
        "#3 import sqlite3\n",
        "\n",
        "# Connect to an in-memory SQLite database\n",
        "conn = sqlite3.connect(':memory:')\n",
        "cursor = conn.cursor()\n",
        "\n",
        "# Create dummy 'flights' and 'airlines' tables and insert some data for demonstration\n",
        "cursor.execute(\"\"\"\n",
        "CREATE TABLE flights (\n",
        "    carrier TEXT,\n",
        "    flight_num INTEGER,\n",
        "    origin TEXT,\n",
        "    dest TEXT\n",
        ");\n",
        "\"\"\")\n",
        "cursor.execute(\"INSERT INTO flights (carrier, flight_num, origin, dest) VALUES ('AA', 101, 'JFK', 'LAX');\")\n",
        "cursor.execute(\"INSERT INTO flights (carrier, flight_num, origin, dest) VALUES ('UA', 202, 'LAX', 'JFK');\")\n",
        "cursor.execute(\"INSERT INTO flights (carrier, flight_num, origin, dest) VALUES ('AA', 103, 'JFK', 'ORD');\")\n",
        "cursor.execute(\"INSERT INTO flights (carrier, flight_num, origin, dest) VALUES ('DL', 301, 'ORD', 'LAX');\")\n",
        "\n",
        "cursor.execute(\"\"\"\n",
        "CREATE TABLE airlines (\n",
        "    carrier TEXT,\n",
        "    name TEXT\n",
        ");\n",
        "\"\"\")\n",
        "cursor.execute(\"INSERT INTO airlines (carrier, name) VALUES ('AA', 'American Airlines');\")\n",
        "cursor.execute(\"INSERT INTO airlines (carrier, name) VALUES ('UA', 'United Airlines');\")\n",
        "cursor.execute(\"INSERT INTO airlines (carrier, name) VALUES ('DL', 'Delta Air Lines');\")\n",
        "\n",
        "\n",
        "result = cursor.execute(\"\"\"\n",
        "SELECT f.carrier,\n",
        "       a.name AS airline_name,\n",
        "       f.flight_num,\n",
        "       f.origin,\n",
        "       f.dest\n",
        "FROM flights f\n",
        "JOIN airlines a ON f.carrier = a.carrier\n",
        "LIMIT 20;\n",
        "\"\"\")\n",
        "\n",
        "print(result.fetchall())\n",
        "\n",
        "# Close the connection\n",
        "conn.close()"
      ],
      "metadata": {
        "colab": {
          "base_uri": "https://localhost:8080/"
        },
        "id": "obUjQbN6aspx",
        "outputId": "f371bfe5-38ee-4fb6-a88b-1a4020c52386"
      },
      "execution_count": 16,
      "outputs": [
        {
          "output_type": "stream",
          "name": "stdout",
          "text": [
            "[('AA', 'American Airlines', 101, 'JFK', 'LAX'), ('UA', 'United Airlines', 202, 'LAX', 'JFK'), ('AA', 'American Airlines', 103, 'JFK', 'ORD'), ('DL', 'Delta Air Lines', 301, 'ORD', 'LAX')]\n"
          ]
        }
      ]
    },
    {
      "cell_type": "code",
      "source": [
        "import sqlite3\n",
        "\n",
        "# Connect to an in-memory SQLite database\n",
        "conn = sqlite3.connect(':memory:')\n",
        "cursor = conn.cursor()\n",
        "\n",
        "# Create a dummy 'planes' table and insert some data for demonstration\n",
        "cursor.execute(\"\"\"\n",
        "CREATE TABLE planes (\n",
        "    tailnum TEXT,\n",
        "    year INTEGER,\n",
        "    carrier TEXT\n",
        ");\n",
        "\"\"\")\n",
        "cursor.execute(\"INSERT INTO planes (tailnum, year, carrier) VALUES ('N101AA', 1999, 'AA');\")\n",
        "cursor.execute(\"INSERT INTO planes (tailnum, year, carrier) VALUES ('N202UA', 2005, 'UA');\")\n",
        "cursor.execute(\"INSERT INTO planes (tailnum, year, carrier) VALUES ('N301DL', 2000, 'DL');\")\n",
        "cursor.execute(\"INSERT INTO planes (tailnum, year, carrier) VALUES ('N102AA', 2001, 'AA');\")\n",
        "cursor.execute(\"INSERT INTO planes (tailnum, year, carrier) VALUES ('N203UA', 2010, 'UA');\")\n",
        "\n",
        "result = cursor.execute(\"\"\"\n",
        "SELECT carrier,\n",
        "       AVG(2013 - year) AS avg_plane_age\n",
        "FROM planes\n",
        "GROUP BY carrier;\n",
        "\"\"\")\n",
        "\n",
        "print(result.fetchall())\n",
        "\n",
        "# Close the connection\n",
        "conn.close()"
      ],
      "metadata": {
        "colab": {
          "base_uri": "https://localhost:8080/"
        },
        "id": "0-cjFBKOa9CR",
        "outputId": "52cd3615-7b45-4298-a387-b35cf3e768cd"
      },
      "execution_count": 18,
      "outputs": [
        {
          "output_type": "stream",
          "name": "stdout",
          "text": [
            "[('AA', 13.0), ('DL', 13.0), ('UA', 5.5)]\n"
          ]
        }
      ]
    },
    {
      "cell_type": "code",
      "source": [
        "import sqlite3\n",
        "\n",
        "# Connect to an in-memory SQLite database\n",
        "conn = sqlite3.connect(':memory:')\n",
        "cursor = conn.cursor()\n",
        "\n",
        "# Create dummy 'flights' and 'weather' tables and insert some data for demonstration\n",
        "cursor.execute(\"\"\"\n",
        "CREATE TABLE flights (\n",
        "    year INTEGER,\n",
        "    month INTEGER,\n",
        "    day INTEGER,\n",
        "    hour INTEGER,\n",
        "    origin TEXT,\n",
        "    dep_delay INTEGER\n",
        ");\n",
        "\"\"\")\n",
        "cursor.execute(\"INSERT INTO flights (year, month, day, hour, origin, dep_delay) VALUES (2013, 1, 1, 10, 'JFK', 45);\")\n",
        "cursor.execute(\"INSERT INTO flights (year, month, day, hour, origin, dep_delay) VALUES (2013, 1, 1, 11, 'LAX', 20);\")\n",
        "cursor.execute(\"INSERT INTO flights (year, month, day, hour, origin, dep_delay) VALUES (2013, 1, 2, 10, 'JFK', 60);\")\n",
        "\n",
        "cursor.execute(\"\"\"\n",
        "CREATE TABLE weather (\n",
        "    year INTEGER,\n",
        "    month INTEGER,\n",
        "    day INTEGER,\n",
        "    hour INTEGER,\n",
        "    origin TEXT,\n",
        "    wind_speed REAL,\n",
        "    precip REAL\n",
        ");\n",
        "\"\"\")\n",
        "cursor.execute(\"INSERT INTO weather (year, month, day, hour, origin, wind_speed, precip) VALUES (2013, 1, 1, 10, 'JFK', 25.0, 0.0);\")\n",
        "cursor.execute(\"INSERT INTO weather (year, month, day, hour, origin, wind_speed, precip) VALUES (2013, 1, 1, 11, 'LAX', 10.0, 0.2);\")\n",
        "cursor.execute(\"INSERT INTO weather (year, month, day, hour, origin, wind_speed, precip) VALUES (2013, 1, 2, 10, 'JFK', 15.0, 0.3);\")\n",
        "\n",
        "\n",
        "# Explore the weather table (optional)\n",
        "result = cursor.execute(\"\"\"\n",
        "SELECT *\n",
        "FROM weather\n",
        "LIMIT 5;\n",
        "\"\"\")\n",
        "print(\"Weather table sample:\")\n",
        "print(result.fetchall())\n",
        "\n",
        "# Find flights with departure delay > 30 minutes and bad weather conditions\n",
        "result = cursor.execute(\"\"\"\n",
        "SELECT f.*\n",
        "FROM flights f\n",
        "JOIN weather w\n",
        "  ON f.origin = w.origin\n",
        "  AND f.year = w.year\n",
        "  AND f.month = w.month\n",
        "  AND f.day = w.day\n",
        "  AND f.hour = w.hour\n",
        "WHERE f.dep_delay > 30\n",
        "  AND (w.wind_speed > 20 OR w.precip > 0.1);\n",
        "\"\"\")\n",
        "\n",
        "print(\"\\nFlights with delay > 30 min and bad weather:\")\n",
        "print(result.fetchall())\n",
        "\n",
        "# Close the connection\n",
        "conn.close()"
      ],
      "metadata": {
        "colab": {
          "base_uri": "https://localhost:8080/"
        },
        "id": "zhgNMOMYbIn3",
        "outputId": "7e369cb7-b4aa-4cc8-8f73-20cc27194c22"
      },
      "execution_count": 20,
      "outputs": [
        {
          "output_type": "stream",
          "name": "stdout",
          "text": [
            "Weather table sample:\n",
            "[(2013, 1, 1, 10, 'JFK', 25.0, 0.0), (2013, 1, 1, 11, 'LAX', 10.0, 0.2), (2013, 1, 2, 10, 'JFK', 15.0, 0.3)]\n",
            "\n",
            "Flights with delay > 30 min and bad weather:\n",
            "[(2013, 1, 1, 10, 'JFK', 45), (2013, 1, 2, 10, 'JFK', 60)]\n"
          ]
        }
      ]
    },
    {
      "cell_type": "code",
      "source": [
        "import sqlite3\n",
        "\n",
        "# Connect to an in-memory SQLite database\n",
        "conn = sqlite3.connect(':memory:')\n",
        "cursor = conn.cursor()\n",
        "\n",
        "# Create dummy 'flights' and 'planes' tables and insert some data for demonstration\n",
        "cursor.execute(\"\"\"\n",
        "CREATE TABLE flights (\n",
        "    tailnum TEXT\n",
        ");\n",
        "\"\"\")\n",
        "cursor.execute(\"INSERT INTO flights (tailnum) VALUES ('N101AA');\")\n",
        "cursor.execute(\"INSERT INTO flights (tailnum) VALUES ('N202UA');\")\n",
        "cursor.execute(\"INSERT INTO flights (tailnum) VALUES ('N101AA');\")\n",
        "cursor.execute(\"INSERT INTO flights (tailnum) VALUES ('N301DL');\")\n",
        "cursor.execute(\"INSERT INTO flights (tailnum) VALUES ('N202UA');\")\n",
        "\n",
        "cursor.execute(\"\"\"\n",
        "CREATE TABLE planes (\n",
        "    tailnum TEXT,\n",
        "    manufacturer TEXT,\n",
        "    model TEXT\n",
        ");\n",
        "\"\"\")\n",
        "cursor.execute(\"INSERT INTO planes (tailnum, manufacturer, model) VALUES ('N101AA', 'Boeing', '737');\")\n",
        "cursor.execute(\"INSERT INTO planes (tailnum, manufacturer, model) VALUES ('N202UA', 'Airbus', 'A320');\")\n",
        "cursor.execute(\"INSERT INTO planes (tailnum, manufacturer, model) VALUES ('N301DL', 'Boeing', '757');\")\n",
        "\n",
        "\n",
        "result = cursor.execute(\"\"\"\n",
        "SELECT p.manufacturer, p.model, COUNT(*) AS flight_count\n",
        "FROM flights f\n",
        "JOIN planes p ON f.tailnum = p.tailnum\n",
        "GROUP BY p.manufacturer, p.model\n",
        "ORDER BY flight_count DESC\n",
        "LIMIT 10;\n",
        "\"\"\")\n",
        "\n",
        "print(result.fetchall())\n",
        "\n",
        "# Close the connection\n",
        "conn.close()"
      ],
      "metadata": {
        "colab": {
          "base_uri": "https://localhost:8080/"
        },
        "id": "e7VMcG9SbZFj",
        "outputId": "a955cfa9-7450-46de-90a8-d200caa31f0e"
      },
      "execution_count": 22,
      "outputs": [
        {
          "output_type": "stream",
          "name": "stdout",
          "text": [
            "[('Airbus', 'A320', 2), ('Boeing', '737', 2), ('Boeing', '757', 1)]\n"
          ]
        }
      ]
    },
    {
      "cell_type": "code",
      "source": [
        "import sqlite3\n",
        "\n",
        "# Connect to an in-memory SQLite database\n",
        "conn = sqlite3.connect(':memory:')\n",
        "cursor = conn.cursor()\n",
        "\n",
        "# Create dummy 'flights' table and insert some data for demonstration\n",
        "cursor.execute(\"\"\"\n",
        "CREATE TABLE flights (\n",
        "    origin TEXT,\n",
        "    dest TEXT,\n",
        "    dep_delay INTEGER\n",
        ");\n",
        "\"\"\")\n",
        "cursor.execute(\"INSERT INTO flights (origin, dest, dep_delay) VALUES ('JFK', 'LAX', 10);\")\n",
        "cursor.execute(\"INSERT INTO flights (origin, dest, dep_delay) VALUES ('LAX', 'JFK', 150);\")\n",
        "cursor.execute(\"INSERT INTO flights (origin, dest, dep_delay) VALUES ('JFK', 'ORD', 30);\")\n",
        "cursor.execute(\"INSERT INTO flights (origin, dest, dep_delay) VALUES ('LAX', 'ORD', 200);\")\n",
        "cursor.execute(\"INSERT INTO flights (origin, dest, dep_delay) VALUES ('ORD', 'LAX', 90);\")\n",
        "cursor.execute(\"INSERT INTO flights (origin, dest, dep_delay) VALUES ('JFK', 'LAX', 5);\")\n",
        "\n",
        "\n",
        "# Create dummy 'airports' table and insert some data for demonstration\n",
        "cursor.execute(\"\"\"\n",
        "CREATE TABLE airports (\n",
        "    iata_code TEXT,\n",
        "    name TEXT\n",
        ");\n",
        "\"\"\")\n",
        "cursor.execute(\"INSERT INTO airports (iata_code, name) VALUES ('JFK', 'John F. Kennedy International Airport');\")\n",
        "cursor.execute(\"INSERT INTO airports (iata_code, name) VALUES ('LAX', 'Los Angeles International Airport');\")\n",
        "cursor.execute(\"INSERT INTO airports (iata_code, name) VALUES ('ORD', 'O''Hare International Airport');\")\n",
        "\n",
        "\n",
        "result = cursor.execute(\"\"\"\n",
        "SELECT\n",
        "  f.origin,\n",
        "  ao.name AS origin_name,\n",
        "  f.dest,\n",
        "  ad.name AS dest_name,\n",
        "  COUNT(*) AS total_flights,\n",
        "  AVG(f.dep_delay) AS avg_dep_delay,\n",
        "  100.0 * SUM(CASE WHEN f.dep_delay > 30 THEN 1 ELSE 0 END) / COUNT(*) AS pct_delayed_over_30\n",
        "FROM flights f\n",
        "JOIN airports ao ON f.origin = ao.iata_code\n",
        "JOIN airports ad ON f.dest = ad.iata_code\n",
        "GROUP BY f.origin, ao.name, f.dest, ad.name\n",
        "ORDER BY total_flights DESC\n",
        "LIMIT 10;\n",
        "\"\"\")\n",
        "\n",
        "print(result.fetchall())\n",
        "\n",
        "# Close the connection\n",
        "conn.close()"
      ],
      "metadata": {
        "colab": {
          "base_uri": "https://localhost:8080/"
        },
        "id": "d7_5m7grbkhX",
        "outputId": "45e3f103-3f04-492f-8b46-7aab21d98539"
      },
      "execution_count": 24,
      "outputs": [
        {
          "output_type": "stream",
          "name": "stdout",
          "text": [
            "[('JFK', 'John F. Kennedy International Airport', 'LAX', 'Los Angeles International Airport', 2, 7.5, 0.0), ('JFK', 'John F. Kennedy International Airport', 'ORD', \"O'Hare International Airport\", 1, 30.0, 0.0), ('LAX', 'Los Angeles International Airport', 'JFK', 'John F. Kennedy International Airport', 1, 150.0, 100.0), ('LAX', 'Los Angeles International Airport', 'ORD', \"O'Hare International Airport\", 1, 200.0, 100.0), ('ORD', \"O'Hare International Airport\", 'LAX', 'Los Angeles International Airport', 1, 90.0, 100.0)]\n"
          ]
        }
      ]
    },
    {
      "cell_type": "code",
      "source": [
        "import polars as pl\n",
        "\n",
        "# Assuming flights and planes are polars DataFrames already loaded\n",
        "\n",
        "# Create dummy Polars DataFrames for demonstration\n",
        "flights = pl.DataFrame({\n",
        "    \"tailnum\": [\"N101AA\", \"N202UA\", \"N101AA\", \"N301DL\", \"N202UA\"]\n",
        "})\n",
        "\n",
        "planes = pl.DataFrame({\n",
        "    \"tailnum\": [\"N101AA\", \"N202UA\", \"N301DL\"],\n",
        "    \"manufacturer\": [\"Boeing\", \"Airbus\", \"Boeing\"],\n",
        "    \"model\": [\"737\", \"A320\", \"757\"]\n",
        "})\n",
        "\n",
        "\n",
        "polars_result = (\n",
        "    flights.join(planes, on=\"tailnum\")\n",
        "    .group_by([\"manufacturer\", \"model\"])\n",
        "    .agg(pl.count().alias(\"flight_count\"))\n",
        "    .sort(\"flight_count\", reverse=True)\n",
        "    .head(10)\n",
        ")\n",
        "\n",
        "print(polars_result)"
      ],
      "metadata": {
        "colab": {
          "base_uri": "https://localhost:8080/",
          "height": 211
        },
        "id": "kDZ0FBOnb0m2",
        "outputId": "d55a419c-97ba-4e1f-dc60-b73d90611f97"
      },
      "execution_count": 26,
      "outputs": [
        {
          "output_type": "error",
          "ename": "AttributeError",
          "evalue": "'DataFrame' object has no attribute 'groupby'",
          "traceback": [
            "\u001b[0;31m---------------------------------------------------------------------------\u001b[0m",
            "\u001b[0;31mAttributeError\u001b[0m                            Traceback (most recent call last)",
            "\u001b[0;32m/tmp/ipython-input-636465334.py\u001b[0m in \u001b[0;36m<cell line: 0>\u001b[0;34m()\u001b[0m\n\u001b[1;32m     17\u001b[0m polars_result = (\n\u001b[1;32m     18\u001b[0m     \u001b[0mflights\u001b[0m\u001b[0;34m.\u001b[0m\u001b[0mjoin\u001b[0m\u001b[0;34m(\u001b[0m\u001b[0mplanes\u001b[0m\u001b[0;34m,\u001b[0m \u001b[0mon\u001b[0m\u001b[0;34m=\u001b[0m\u001b[0;34m\"tailnum\"\u001b[0m\u001b[0;34m)\u001b[0m\u001b[0;34m\u001b[0m\u001b[0;34m\u001b[0m\u001b[0m\n\u001b[0;32m---> 19\u001b[0;31m     \u001b[0;34m.\u001b[0m\u001b[0mgroupby\u001b[0m\u001b[0;34m(\u001b[0m\u001b[0;34m[\u001b[0m\u001b[0;34m\"manufacturer\"\u001b[0m\u001b[0;34m,\u001b[0m \u001b[0;34m\"model\"\u001b[0m\u001b[0;34m]\u001b[0m\u001b[0;34m)\u001b[0m\u001b[0;34m\u001b[0m\u001b[0;34m\u001b[0m\u001b[0m\n\u001b[0m\u001b[1;32m     20\u001b[0m     \u001b[0;34m.\u001b[0m\u001b[0magg\u001b[0m\u001b[0;34m(\u001b[0m\u001b[0mpl\u001b[0m\u001b[0;34m.\u001b[0m\u001b[0mcount\u001b[0m\u001b[0;34m(\u001b[0m\u001b[0;34m)\u001b[0m\u001b[0;34m.\u001b[0m\u001b[0malias\u001b[0m\u001b[0;34m(\u001b[0m\u001b[0;34m\"flight_count\"\u001b[0m\u001b[0;34m)\u001b[0m\u001b[0;34m)\u001b[0m\u001b[0;34m\u001b[0m\u001b[0;34m\u001b[0m\u001b[0m\n\u001b[1;32m     21\u001b[0m     \u001b[0;34m.\u001b[0m\u001b[0msort\u001b[0m\u001b[0;34m(\u001b[0m\u001b[0;34m\"flight_count\"\u001b[0m\u001b[0;34m,\u001b[0m \u001b[0mreverse\u001b[0m\u001b[0;34m=\u001b[0m\u001b[0;32mTrue\u001b[0m\u001b[0;34m)\u001b[0m\u001b[0;34m\u001b[0m\u001b[0;34m\u001b[0m\u001b[0m\n",
            "\u001b[0;31mAttributeError\u001b[0m: 'DataFrame' object has no attribute 'groupby'"
          ]
        }
      ]
    }
  ]
}